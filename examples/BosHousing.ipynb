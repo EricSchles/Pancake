{
 "cells": [
  {
   "cell_type": "markdown",
   "metadata": {},
   "source": [
    "# Boston Housing Prices Dataset \n",
    "\n",
    "## Contents\n",
    "\n",
    "0. [Introduction](#intro)\n",
    "1. [Pre-processing and Splitting Data](#split)\n",
    "2. [Models for median price predictions](#model)\n",
    "3. [Stacked model](#stack)"
   ]
  },
  {
   "cell_type": "markdown",
   "metadata": {},
   "source": [
    "## Introduction <a class=\"anchor\" id=\"intro\"></a>"
   ]
  },
  {
   "cell_type": "markdown",
   "metadata": {},
   "source": [
    "This notebook illustrates the use of the `Stacker` to conveniently stack models over folds to perform predictions. In this example, the Boston Housing dataset (included in scikit-learn) is used. Two linear models (Ridge Regression and LASSO) are stacked. The single stacker is a Ridge Regression model. "
   ]
  },
  {
   "cell_type": "code",
   "execution_count": 25,
   "metadata": {},
   "outputs": [],
   "source": [
    "import warnings\n",
    "import numpy as np \n",
    "import pandas as pd \n",
    "\n",
    "from scipy import stats\n",
    "from sklearn.model_selection import train_test_split, StratifiedKFold, RepeatedKFold, KFold, ParameterGrid, GridSearchCV\n",
    "from sklearn.linear_model import Ridge, RidgeCV, Lasso, LassoCV\n",
    "from sklearn.ensemble import RandomForestRegressor\n",
    "from sklearn.svm import SVR, LinearSVR\n",
    "from sklearn.metrics import mean_squared_error\n",
    "from sklearn.preprocessing import RobustScaler\n",
    "\n",
    "# Stacking\n",
    "from Pancake.Stacker import *\n",
    "\n",
    "# Data\n",
    "from sklearn.datasets import load_boston\n",
    "\n",
    "import matplotlib.pyplot as plt\n",
    "import seaborn as sns\n",
    "\n",
    "%matplotlib inline\n",
    "\n",
    "warnings.filterwarnings('ignore')\n",
    "\n",
    "# Random seed\n",
    "seed=123\n"
   ]
  },
  {
   "cell_type": "markdown",
   "metadata": {},
   "source": [
    "## Data Loading and Pre-processing <a class=\"anchor\" id=\"split\"></a>"
   ]
  },
  {
   "cell_type": "code",
   "execution_count": 26,
   "metadata": {},
   "outputs": [],
   "source": [
    "# Get data\n",
    "boston=load_boston()\n",
    "\n",
    "X = boston['data']\n",
    "y = boston['target']"
   ]
  },
  {
   "cell_type": "code",
   "execution_count": 27,
   "metadata": {},
   "outputs": [
    {
     "name": "stdout",
     "output_type": "stream",
     "text": [
      ".. _boston_dataset:\n",
      "\n",
      "Boston house prices dataset\n",
      "---------------------------\n",
      "\n",
      "**Data Set Characteristics:**  \n",
      "\n",
      "    :Number of Instances: 506 \n",
      "\n",
      "    :Number of Attributes: 13 numeric/categorical predictive. Median Value (attribute 14) is usually the target.\n",
      "\n",
      "    :Attribute Information (in order):\n",
      "        - CRIM     per capita crime rate by town\n",
      "        - ZN       proportion of residential land zoned for lots over 25,000 sq.ft.\n",
      "        - INDUS    proportion of non-retail business acres per town\n",
      "        - CHAS     Charles River dummy variable (= 1 if tract bounds river; 0 otherwise)\n",
      "        - NOX      nitric oxides concentration (parts per 10 million)\n",
      "        - RM       average number of rooms per dwelling\n",
      "        - AGE      proportion of owner-occupied units built prior to 1940\n",
      "        - DIS      weighted distances to five Boston employment centres\n",
      "        - RAD      index of accessibility to radial highways\n",
      "        - TAX      full-value property-tax rate per $10,000\n",
      "        - PTRATIO  pupil-teacher ratio by town\n",
      "        - B        1000(Bk - 0.63)^2 where Bk is the proportion of blacks by town\n",
      "        - LSTAT    % lower status of the population\n",
      "        - MEDV     Median value of owner-occupied homes in $1000's\n",
      "\n",
      "    :Missing Attribute Values: None\n",
      "\n",
      "    :Creator: Harrison, D. and Rubinfeld, D.L.\n",
      "\n",
      "This is a copy of UCI ML housing dataset.\n",
      "https://archive.ics.uci.edu/ml/machine-learning-databases/housing/\n",
      "\n",
      "\n",
      "This dataset was taken from the StatLib library which is maintained at Carnegie Mellon University.\n",
      "\n",
      "The Boston house-price data of Harrison, D. and Rubinfeld, D.L. 'Hedonic\n",
      "prices and the demand for clean air', J. Environ. Economics & Management,\n",
      "vol.5, 81-102, 1978.   Used in Belsley, Kuh & Welsch, 'Regression diagnostics\n",
      "...', Wiley, 1980.   N.B. Various transformations are used in the table on\n",
      "pages 244-261 of the latter.\n",
      "\n",
      "The Boston house-price data has been used in many machine learning papers that address regression\n",
      "problems.   \n",
      "     \n",
      ".. topic:: References\n",
      "\n",
      "   - Belsley, Kuh & Welsch, 'Regression diagnostics: Identifying Influential Data and Sources of Collinearity', Wiley, 1980. 244-261.\n",
      "   - Quinlan,R. (1993). Combining Instance-Based and Model-Based Learning. In Proceedings on the Tenth International Conference of Machine Learning, 236-243, University of Massachusetts, Amherst. Morgan Kaufmann.\n",
      "\n"
     ]
    }
   ],
   "source": [
    "print(boston['DESCR'])"
   ]
  },
  {
   "cell_type": "markdown",
   "metadata": {},
   "source": [
    "Features and target variables:"
   ]
  },
  {
   "cell_type": "code",
   "execution_count": 28,
   "metadata": {},
   "outputs": [],
   "source": [
    "feats = boston[\"feature_names\"]\n",
    "df_boston = pd.DataFrame(X, columns=feats)\n",
    "df_boston['MEDV'] = y"
   ]
  },
  {
   "cell_type": "code",
   "execution_count": 29,
   "metadata": {},
   "outputs": [
    {
     "data": {
      "text/plain": [
       "CRIM       504\n",
       "ZN          26\n",
       "INDUS       76\n",
       "CHAS         2\n",
       "NOX         81\n",
       "RM         446\n",
       "AGE        356\n",
       "DIS        412\n",
       "RAD          9\n",
       "TAX         66\n",
       "PTRATIO     46\n",
       "B          357\n",
       "LSTAT      455\n",
       "MEDV       229\n",
       "dtype: int64"
      ]
     },
     "execution_count": 29,
     "metadata": {},
     "output_type": "execute_result"
    }
   ],
   "source": [
    "# Unique values for each feature\n",
    "df_boston.apply(lambda x: len(set(x)))"
   ]
  },
  {
   "cell_type": "markdown",
   "metadata": {},
   "source": [
    "The following features benefit from a log transform:\n",
    "\n",
    "* `CRIM`, `DIS`, `LSTAT`"
   ]
  },
  {
   "cell_type": "code",
   "execution_count": 30,
   "metadata": {},
   "outputs": [
    {
     "data": {
      "image/png": "[encoded data removed]",
      "text/plain": [
       "<Figure size 1296x432 with 3 Axes>"
      ]
     },
     "metadata": {
      "needs_background": "light"
     },
     "output_type": "display_data"
    }
   ],
   "source": [
    "fig, (ax1,ax2,ax3) = plt.subplots(1,3,figsize=(18,6))\n",
    "sns.distplot(df_boston['CRIM'],ax=ax1)\n",
    "sns.distplot(df_boston['DIS'], ax=ax2)\n",
    "sns.distplot(df_boston['LSTAT'],ax=ax3)\n",
    "plt.suptitle('Original Features')\n",
    "plt.show()"
   ]
  },
  {
   "cell_type": "code",
   "execution_count": 31,
   "metadata": {},
   "outputs": [
    {
     "data": {
      "image/png": "[encoded data removed]",
      "text/plain": [
       "<Figure size 1296x432 with 3 Axes>"
      ]
     },
     "metadata": {
      "needs_background": "light"
     },
     "output_type": "display_data"
    }
   ],
   "source": [
    "fig, (ax1,ax2,ax3) = plt.subplots(1,3,figsize=(18,6))\n",
    "sns.distplot(df_boston['CRIM'].apply(lambda x: np.log10(x)),ax=ax1)\n",
    "sns.distplot(df_boston['DIS'].apply(lambda x: np.log10(x)), ax=ax2)\n",
    "sns.distplot(df_boston['LSTAT'].apply(lambda x: np.log10(x)),ax=ax3)\n",
    "plt.suptitle('Log transformed features')\n",
    "plt.show()"
   ]
  },
  {
   "cell_type": "markdown",
   "metadata": {},
   "source": [
    "To split the data into train/test sets, we can stratify using `MEDV` percentiles. This helps in a more balanced distribution between train and test sets"
   ]
  },
  {
   "cell_type": "code",
   "execution_count": 32,
   "metadata": {},
   "outputs": [],
   "source": [
    "def quantileClasses(y, percs=[25,50,75]):\n",
    "    quantiles = np.percentile(y, percs)\n",
    "    yq = np.zeros_like(y,dtype=int)\n",
    "    \n",
    "    # Categorical yq based on quantiles\n",
    "    yq[(y>quantiles[0]) & (y < quantiles[1])] = 1\n",
    "    yq[(y>quantiles[1]) & (y < quantiles[2])] = 2\n",
    "    yq[(y>quantiles[2])] = 3\n",
    "    \n",
    "    return yq"
   ]
  },
  {
   "cell_type": "code",
   "execution_count": 33,
   "metadata": {},
   "outputs": [],
   "source": [
    "yq = quantileClasses(y)\n",
    "\n",
    "X_train, X_test, y_train, y_test = train_test_split(X, y, stratify=yq, test_size=0.25, random_state=seed)"
   ]
  },
  {
   "cell_type": "markdown",
   "metadata": {},
   "source": [
    "Let's pre-process and use robust scaler to re-scale:"
   ]
  },
  {
   "cell_type": "code",
   "execution_count": 34,
   "metadata": {},
   "outputs": [],
   "source": [
    "feats_toLog = ['CRIM','DIS','LSTAT']\n",
    "df_train = pd.DataFrame(X_train, columns=feats)\n",
    "df_test = pd.DataFrame(X_test, columns=feats)\n",
    "\n",
    "for f in feats_toLog:\n",
    "    df_train[f] = np.log10(df_train[f])\n",
    "    df_test[f] = np.log10(df_test[f])"
   ]
  },
  {
   "cell_type": "markdown",
   "metadata": {},
   "source": [
    "Let's also rescale the features (except the categorical `CHAS`):"
   ]
  },
  {
   "cell_type": "code",
   "execution_count": 35,
   "metadata": {},
   "outputs": [],
   "source": [
    "feats_to_normalize = [f for f in feats if f != 'CHAS']\n",
    "X_ = df_train[feats_to_normalize].values\n",
    "\n",
    "# Scale training data\n",
    "scaler = RobustScaler()\n",
    "X_rscl = scaler.fit_transform(X_)\n",
    "\n",
    "center_, scale_ = scaler.center_, scaler.scale_"
   ]
  },
  {
   "cell_type": "markdown",
   "metadata": {},
   "source": [
    "Training and test sets:"
   ]
  },
  {
   "cell_type": "code",
   "execution_count": 36,
   "metadata": {},
   "outputs": [],
   "source": [
    "# Train \n",
    "df_train_new = pd.DataFrame(X_rscl, columns=feats_to_normalize)\n",
    "df_train_new['CHAS'] = df_train['CHAS']\n",
    "\n",
    "# Test\n",
    "X_ = df_test[feats_to_normalize].values\n",
    "X_ = (X_ - center_) / scale_\n",
    "\n",
    "df_test_new = pd.DataFrame(X_, columns=feats_to_normalize)\n",
    "df_test_new['CHAS'] = df_test['CHAS']"
   ]
  },
  {
   "cell_type": "markdown",
   "metadata": {},
   "source": [
    "## Modeling <a class=\"anchor\" id=\"model\"></a>"
   ]
  },
  {
   "cell_type": "markdown",
   "metadata": {},
   "source": [
    "As a simple case, let's use Ridge Regression and LASSO as in-layer models. We will train both models separately in all training data, as well as on folds for the stacked model"
   ]
  },
  {
   "cell_type": "code",
   "execution_count": 37,
   "metadata": {},
   "outputs": [],
   "source": [
    "X_train = df_train_new[feats].values\n",
    "X_test = df_test_new[feats].values"
   ]
  },
  {
   "cell_type": "markdown",
   "metadata": {},
   "source": [
    "#### Ridge Regression"
   ]
  },
  {
   "cell_type": "code",
   "execution_count": 38,
   "metadata": {},
   "outputs": [
    {
     "data": {
      "text/plain": [
       "RidgeCV(alphas=array([1.00000e-02, 1.09750e-02, ..., 9.11163e+01, 1.00000e+02]),\n",
       "    cv=<sklearn.model_selection._split.RepeatedKFold object at 0x1a26c0b908>,\n",
       "    fit_intercept=True, gcv_mode=None, normalize=False,\n",
       "    scoring='neg_mean_squared_error', store_cv_values=False)"
      ]
     },
     "execution_count": 38,
     "metadata": {},
     "output_type": "execute_result"
    }
   ],
   "source": [
    "skf = RepeatedKFold(n_repeats=10,n_splits=5,random_state=seed)\n",
    "regMod_1 = RidgeCV(alphas=np.logspace(-2,2,100), scoring='neg_mean_squared_error', cv=skf)\n",
    "regMod_1.fit(X_train, y_train)"
   ]
  },
  {
   "cell_type": "code",
   "execution_count": 39,
   "metadata": {},
   "outputs": [
    {
     "name": "stdout",
     "output_type": "stream",
     "text": [
      "Best hyper-parameter: alpha = 1.1498\n"
     ]
    }
   ],
   "source": [
    "print(\"Best hyper-parameter: alpha = {:.4f}\".format(regMod_1.alpha_))"
   ]
  },
  {
   "cell_type": "code",
   "execution_count": 40,
   "metadata": {},
   "outputs": [],
   "source": [
    "# Predict on train/test sets\n",
    "y_pred_tr = regMod_1.predict(X_train)\n",
    "mse_tr = mean_squared_error(y_train, y_pred_tr)\n",
    "\n",
    "y_pred_ts = regMod_1.predict(X_test)\n",
    "mse_ts = mean_squared_error(y_test, y_pred_ts)"
   ]
  },
  {
   "cell_type": "code",
   "execution_count": 41,
   "metadata": {},
   "outputs": [
    {
     "name": "stdout",
     "output_type": "stream",
     "text": [
      "Training RMSE = 4.0275\n",
      "Test RMSE = 4.7609\n"
     ]
    }
   ],
   "source": [
    "# Performance\n",
    "print(\"Training RMSE = {:.4f}\".format(np.sqrt(mse_tr)))\n",
    "print(\"Test RMSE = {:.4f}\".format(np.sqrt(mse_ts)))"
   ]
  },
  {
   "cell_type": "markdown",
   "metadata": {},
   "source": [
    "#### Lasso"
   ]
  },
  {
   "cell_type": "code",
   "execution_count": 42,
   "metadata": {},
   "outputs": [
    {
     "data": {
      "text/plain": [
       "LassoCV(alphas=None, copy_X=True,\n",
       "    cv=<sklearn.model_selection._split.RepeatedKFold object at 0x1a26c4ca58>,\n",
       "    eps=0.001, fit_intercept=True, max_iter=1000, n_alphas=100,\n",
       "    n_jobs=None, normalize=False, positive=False, precompute='auto',\n",
       "    random_state=None, selection='cyclic', tol=0.0001, verbose=False)"
      ]
     },
     "execution_count": 42,
     "metadata": {},
     "output_type": "execute_result"
    }
   ],
   "source": [
    "skf = RepeatedKFold(n_repeats=10,n_splits=5,random_state=seed)\n",
    "regMod_2 = LassoCV(n_alphas=100, cv=skf)\n",
    "regMod_2.fit(X_train, y_train)"
   ]
  },
  {
   "cell_type": "code",
   "execution_count": 43,
   "metadata": {},
   "outputs": [
    {
     "name": "stdout",
     "output_type": "stream",
     "text": [
      "Best hyper-parameter: alpha = 0.0185\n"
     ]
    }
   ],
   "source": [
    "print(\"Best hyper-parameter: alpha = {:.4f}\".format(regMod_2.alpha_))"
   ]
  },
  {
   "cell_type": "code",
   "execution_count": 44,
   "metadata": {},
   "outputs": [],
   "source": [
    "# Train/test predictions\n",
    "y_pred_tr = regMod_2.predict(X_train)\n",
    "mse_tr = mean_squared_error(y_train, y_pred_tr)\n",
    "\n",
    "y_pred_ts = regMod_2.predict(X_test)\n",
    "mse_ts = mean_squared_error(y_test, y_pred_ts)"
   ]
  },
  {
   "cell_type": "code",
   "execution_count": 45,
   "metadata": {},
   "outputs": [
    {
     "name": "stdout",
     "output_type": "stream",
     "text": [
      "Training RMSE = 4.0312\n",
      "Test RMSE = 4.7518\n"
     ]
    }
   ],
   "source": [
    "# Performance\n",
    "print(\"Training RMSE = {:.4f}\".format(np.sqrt(mse_tr)))\n",
    "print(\"Test RMSE = {:.4f}\".format(np.sqrt(mse_ts)))"
   ]
  },
  {
   "cell_type": "markdown",
   "metadata": {},
   "source": [
    "## Stacking <a class=\"anchor\" id=\"stack\"></a>\n",
    "\n",
    "We can now stack predictions from the above models. We choose to re-train the in-layer models over the folds since it leads to better performance"
   ]
  },
  {
   "cell_type": "code",
   "execution_count": 46,
   "metadata": {},
   "outputs": [
    {
     "name": "stdout",
     "output_type": "stream",
     "text": [
      "In-layer model : 1 trained, Avg CV score across HO folds: -4.2876\n",
      "In-layer model : 2 trained, Avg CV score across HO folds: -4.2849\n",
      "Out-layer model : 1 trained,  CV score = -4.2317\n"
     ]
    }
   ],
   "source": [
    "# Metric to maximize (negative RMSE)\n",
    "def nrmse(y,y_pred):\n",
    "    return -np.sqrt(mean_squared_error(y,y_pred))\n",
    "\n",
    "# Folds\n",
    "splt = KFold(n_splits=5,random_state=seed)\n",
    "\n",
    "# Initiate stacker\n",
    "stacker = Stacker(X_train, y_train, splitter=splt, evalMetric=nrmse, family=\"regression\")\n",
    "\n",
    "# Hyper-parameters\n",
    "hypers = {'alpha':np.logspace(-2,2,100)}\n",
    "\n",
    "# Add one in-layer model\n",
    "stacker.addModelIn(Ridge(), trainable = True, hyperParameters = hypers)\n",
    "stacker.addModelIn(Lasso(), trainable = True, hyperParameters = hypers)\n",
    "\n",
    "# Add one out-layer model\n",
    "stacker.addModelOut(Ridge(), hypers)\n",
    "\n",
    "# Train\n",
    "predsTrain = stacker.stackTrain()\n",
    "\n",
    "# Test\n",
    "predsTest = stacker.stackTest(X_test)"
   ]
  },
  {
   "cell_type": "code",
   "execution_count": 47,
   "metadata": {},
   "outputs": [
    {
     "name": "stdout",
     "output_type": "stream",
     "text": [
      "Ridge Regression RMSE (train) = 4.2571\n",
      "Ridge Regression RMSE (test) = 4.7401\n"
     ]
    }
   ],
   "source": [
    "# Train/Test set predictions and performance\n",
    "mse_tr = mean_squared_error(y_train, predsTrain[0])\n",
    "rmse_tr = np.sqrt(mse_tr)\n",
    "print(\"Ridge Regression RMSE (train) = {:.4f}\".format(rmse_tr))\n",
    "\n",
    "mse_ts = mean_squared_error(y_test, predsTest[0])\n",
    "rmse_ts = np.sqrt(mse_ts)\n",
    "print(\"Ridge Regression RMSE (test) = {:.4f}\".format(rmse_ts))"
   ]
  },
  {
   "cell_type": "markdown",
   "metadata": {},
   "source": [
    "This result is better than single models trained on all data. Also, the difference between the training and test set performance is lower.\n",
    "\n",
    "Let's now use the summary method of the stacker to get some more information:"
   ]
  },
  {
   "cell_type": "code",
   "execution_count": 48,
   "metadata": {},
   "outputs": [
    {
     "name": "stdout",
     "output_type": "stream",
     "text": [
      "Stacked Model Summary:\n",
      "----------------------------------------\n",
      "2 in-layer models stacked in 2.26e+00 sec\n",
      "1 out-layer models trained in 3.10e-01 sec\n",
      "In-layer summary\n",
      "----------------------------------------\n",
      "2 in-Layer models trained/fitted\n",
      "Out-layer summary\n",
      "----------------------------------------\n",
      "Out-layer model 1: CV score = -4.2317\n",
      "Best hyper-parameters: {'alpha': 0.25950242113997374}\n"
     ]
    }
   ],
   "source": [
    "stacker.summary()"
   ]
  }
 ],
 "metadata": {
  "kernelspec": {
   "display_name": "Python 3",
   "language": "python",
   "name": "python3"
  },
  "language_info": {
   "codemirror_mode": {
    "name": "ipython",
    "version": 3
   },
   "file_extension": ".py",
   "mimetype": "text/x-python",
   "name": "python",
   "nbconvert_exporter": "python",
   "pygments_lexer": "ipython3",
   "version": "3.6.7"
  }
 },
 "nbformat": 4,
 "nbformat_minor": 2
}
