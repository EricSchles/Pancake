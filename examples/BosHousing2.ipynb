{
 "cells": [
  {
   "cell_type": "markdown",
   "metadata": {},
   "source": [
    "## Boston Housing Prices Dataset\n",
    "\n",
    "In this version, we stack RandomForest and Support Vector Regression models"
   ]
  },
  {
   "cell_type": "code",
   "execution_count": 1,
   "metadata": {},
   "outputs": [],
   "source": [
    "import warnings\n",
    "import numpy as np \n",
    "import pandas as pd \n",
    "\n",
    "from scipy import stats\n",
    "from sklearn.model_selection import train_test_split, StratifiedKFold, RepeatedKFold, KFold, ParameterGrid, GridSearchCV\n",
    "from sklearn.linear_model import Ridge, RidgeCV, Lasso, LassoCV\n",
    "from sklearn.ensemble import RandomForestRegressor\n",
    "from sklearn.svm import SVR, LinearSVR\n",
    "from sklearn.metrics import mean_squared_error\n",
    "from sklearn.preprocessing import RobustScaler\n",
    "\n",
    "# Stacking\n",
    "from pancake.Stacker import *\n",
    "\n",
    "# Data\n",
    "from sklearn.datasets import load_boston\n",
    "\n",
    "import matplotlib.pyplot as plt\n",
    "import seaborn as sns\n",
    "\n",
    "%matplotlib inline\n",
    "\n",
    "warnings.filterwarnings('ignore')\n",
    "\n",
    "# Random seed\n",
    "seed=123\n"
   ]
  },
  {
   "cell_type": "markdown",
   "metadata": {},
   "source": [
    "## Data Loading and Pre-processing"
   ]
  },
  {
   "cell_type": "code",
   "execution_count": 2,
   "metadata": {},
   "outputs": [],
   "source": [
    "# Get data\n",
    "boston=load_boston()\n",
    "\n",
    "X = boston['data']\n",
    "y = boston['target']"
   ]
  },
  {
   "cell_type": "code",
   "execution_count": 3,
   "metadata": {},
   "outputs": [],
   "source": [
    "feats = boston[\"feature_names\"]\n",
    "df_boston = pd.DataFrame(X, columns=feats)\n",
    "df_boston['MEDV'] = y"
   ]
  },
  {
   "cell_type": "code",
   "execution_count": 4,
   "metadata": {},
   "outputs": [],
   "source": [
    "def quantileClasses(y, percs=[25,50,75]):\n",
    "    quantiles = np.percentile(y, percs)\n",
    "    yq = np.zeros_like(y,dtype=int)\n",
    "    \n",
    "    # Categorical yq based on quantiles\n",
    "    yq[(y>quantiles[0]) & (y < quantiles[1])] = 1\n",
    "    yq[(y>quantiles[1]) & (y < quantiles[2])] = 2\n",
    "    yq[(y>quantiles[2])] = 3\n",
    "    \n",
    "    return yq"
   ]
  },
  {
   "cell_type": "code",
   "execution_count": 5,
   "metadata": {},
   "outputs": [],
   "source": [
    "yq = quantileClasses(y)\n",
    "\n",
    "X_train, X_test, y_train, y_test = train_test_split(X, y, stratify=yq, test_size=0.25, random_state=seed)"
   ]
  },
  {
   "cell_type": "markdown",
   "metadata": {},
   "source": [
    "Let's pre-process and use robust scaler to re-scale:"
   ]
  },
  {
   "cell_type": "code",
   "execution_count": 6,
   "metadata": {},
   "outputs": [],
   "source": [
    "feats_toLog = ['CRIM','DIS','LSTAT']\n",
    "df_train = pd.DataFrame(X_train, columns=feats)\n",
    "df_test = pd.DataFrame(X_test, columns=feats)\n",
    "\n",
    "for f in feats_toLog:\n",
    "    df_train[f] = np.log10(df_train[f])\n",
    "    df_test[f] = np.log10(df_test[f])"
   ]
  },
  {
   "cell_type": "markdown",
   "metadata": {},
   "source": [
    "Let's also rescale the features (except the categorical `CHAS`):"
   ]
  },
  {
   "cell_type": "code",
   "execution_count": 7,
   "metadata": {},
   "outputs": [],
   "source": [
    "feats_to_normalize = [f for f in feats if f != 'CHAS']\n",
    "X_ = df_train[feats_to_normalize].values\n",
    "\n",
    "# Scale training data\n",
    "scaler = RobustScaler()\n",
    "X_rscl = scaler.fit_transform(X_)\n",
    "\n",
    "center_, scale_ = scaler.center_, scaler.scale_"
   ]
  },
  {
   "cell_type": "markdown",
   "metadata": {},
   "source": [
    "Training and test sets:"
   ]
  },
  {
   "cell_type": "code",
   "execution_count": 8,
   "metadata": {},
   "outputs": [],
   "source": [
    "# Train \n",
    "df_train_new = pd.DataFrame(X_rscl, columns=feats_to_normalize)\n",
    "df_train_new['CHAS'] = df_train['CHAS']\n",
    "\n",
    "# Test\n",
    "X_ = df_test[feats_to_normalize].values\n",
    "X_ = (X_ - center_) / scale_\n",
    "\n",
    "df_test_new = pd.DataFrame(X_, columns=feats_to_normalize)\n",
    "df_test_new['CHAS'] = df_test['CHAS']"
   ]
  },
  {
   "cell_type": "markdown",
   "metadata": {},
   "source": [
    "## Modeling"
   ]
  },
  {
   "cell_type": "code",
   "execution_count": 9,
   "metadata": {},
   "outputs": [],
   "source": [
    "X_train = df_train_new[feats].values\n",
    "X_test = df_test_new[feats].values"
   ]
  },
  {
   "cell_type": "markdown",
   "metadata": {},
   "source": [
    "### Random Forest"
   ]
  },
  {
   "cell_type": "code",
   "execution_count": 10,
   "metadata": {},
   "outputs": [
    {
     "data": {
      "text/plain": [
       "GridSearchCV(cv=<sklearn.model_selection._split.RepeatedKFold object at 0x1a22ca5278>,\n",
       "       error_score='raise-deprecating',\n",
       "       estimator=RandomForestRegressor(bootstrap=True, criterion='mse', max_depth=None,\n",
       "           max_features='auto', max_leaf_nodes=None,\n",
       "           min_impurity_decrease=0.0, min_impurity_split=None,\n",
       "           min_samples_leaf=1, min_samples_split=2,\n",
       "           min_weight_fraction_leaf=0.0, n_estimators=50, n_jobs=None,\n",
       "           oob_score=False, random_state=123, verbose=0, warm_start=False),\n",
       "       fit_params=None, iid='warn', n_jobs=4,\n",
       "       param_grid={'max_features': [2, 4, 6, 8]}, pre_dispatch='2*n_jobs',\n",
       "       refit=True, return_train_score='warn',\n",
       "       scoring='neg_mean_squared_error', verbose=0)"
      ]
     },
     "execution_count": 10,
     "metadata": {},
     "output_type": "execute_result"
    }
   ],
   "source": [
    "skf = RepeatedKFold(n_repeats=10,n_splits=5,random_state=seed)\n",
    "hypers = {'max_features':[2,4,6,8]}\n",
    "\n",
    "regMod_3 = RandomForestRegressor(n_estimators=50,random_state=seed)\n",
    "grid = GridSearchCV(estimator=regMod_3, param_grid=hypers, cv=skf, scoring='neg_mean_squared_error', \n",
    "                    n_jobs=4)\n",
    "grid.fit(X_train, y_train)"
   ]
  },
  {
   "cell_type": "code",
   "execution_count": 11,
   "metadata": {},
   "outputs": [
    {
     "data": {
      "text/plain": [
       "{'max_features': 6}"
      ]
     },
     "execution_count": 11,
     "metadata": {},
     "output_type": "execute_result"
    }
   ],
   "source": [
    "grid.best_params_"
   ]
  },
  {
   "cell_type": "code",
   "execution_count": 12,
   "metadata": {},
   "outputs": [],
   "source": [
    "# Train/test predictions\n",
    "y_pred_tr = grid.predict(X_train)\n",
    "mse_tr = mean_squared_error(y_train, y_pred_tr)\n",
    "\n",
    "y_pred_ts = grid.predict(X_test)\n",
    "mse_ts = mean_squared_error(y_test, y_pred_ts)"
   ]
  },
  {
   "cell_type": "code",
   "execution_count": 13,
   "metadata": {},
   "outputs": [
    {
     "name": "stdout",
     "output_type": "stream",
     "text": [
      "Training RMSE = 1.3439\n",
      "Test RMSE = 3.6175\n"
     ]
    }
   ],
   "source": [
    "# Performance\n",
    "print(\"Training RMSE = {:.4f}\".format(np.sqrt(mse_tr)))\n",
    "print(\"Test RMSE = {:.4f}\".format(np.sqrt(mse_ts)))"
   ]
  },
  {
   "cell_type": "markdown",
   "metadata": {},
   "source": [
    "#### SVR"
   ]
  },
  {
   "cell_type": "code",
   "execution_count": 14,
   "metadata": {},
   "outputs": [
    {
     "data": {
      "text/plain": [
       "GridSearchCV(cv=<sklearn.model_selection._split.RepeatedKFold object at 0x1a22ce9320>,\n",
       "       error_score='raise-deprecating',\n",
       "       estimator=SVR(C=1.0, cache_size=200, coef0=0.0, degree=3, epsilon=0.1,\n",
       "  gamma='auto_deprecated', kernel='rbf', max_iter=-1, shrinking=True,\n",
       "  tol=0.001, verbose=False),\n",
       "       fit_params=None, iid='warn', n_jobs=4,\n",
       "       param_grid={'C': array([1.00000e-04, 7.74264e-04, 5.99484e-03, 4.64159e-02, 3.59381e-01,\n",
       "       2.78256e+00, 2.15443e+01, 1.66810e+02, 1.29155e+03, 1.00000e+04]), 'gamma': array([1.00000e-04, 7.74264e-04, 5.99484e-03, 4.64159e-02, 3.59381e-01,\n",
       "       2.78256e+00, 2.15443e+01, 1.66810e+02, 1.29155e+03, 1.00000e+04])},\n",
       "       pre_dispatch='2*n_jobs', refit=True, return_train_score='warn',\n",
       "       scoring='neg_mean_squared_error', verbose=0)"
      ]
     },
     "execution_count": 14,
     "metadata": {},
     "output_type": "execute_result"
    }
   ],
   "source": [
    "skf = RepeatedKFold(n_repeats=10,n_splits=5,random_state=seed)\n",
    "hypers = {'C':np.logspace(-4,4,10), 'gamma':np.logspace(-4,4,10)}\n",
    "\n",
    "regMod_5 = SVR(kernel='rbf')\n",
    "grid = GridSearchCV(estimator=regMod_5, param_grid=hypers, cv=skf, scoring='neg_mean_squared_error', \n",
    "                    n_jobs=4)\n",
    "grid.fit(X_train, y_train)"
   ]
  },
  {
   "cell_type": "code",
   "execution_count": 15,
   "metadata": {},
   "outputs": [
    {
     "data": {
      "text/plain": [
       "{'C': 166.81005372000558, 'gamma': 0.046415888336127774}"
      ]
     },
     "execution_count": 15,
     "metadata": {},
     "output_type": "execute_result"
    }
   ],
   "source": [
    "grid.best_params_"
   ]
  },
  {
   "cell_type": "code",
   "execution_count": 16,
   "metadata": {},
   "outputs": [],
   "source": [
    "# Train/test predictions\n",
    "y_pred_tr = grid.predict(X_train)\n",
    "mse_tr = mean_squared_error(y_train, y_pred_tr)\n",
    "\n",
    "y_pred_ts = grid.predict(X_test)\n",
    "mse_ts = mean_squared_error(y_test, y_pred_ts)"
   ]
  },
  {
   "cell_type": "code",
   "execution_count": 17,
   "metadata": {},
   "outputs": [
    {
     "name": "stdout",
     "output_type": "stream",
     "text": [
      "Training RMSE = 1.8473\n",
      "Test RMSE = 3.7268\n"
     ]
    }
   ],
   "source": [
    "# Performance\n",
    "print(\"Training RMSE = {:.4f}\".format(np.sqrt(mse_tr)))\n",
    "print(\"Test RMSE = {:.4f}\".format(np.sqrt(mse_ts)))"
   ]
  },
  {
   "cell_type": "markdown",
   "metadata": {},
   "source": [
    "## Stacking"
   ]
  },
  {
   "cell_type": "code",
   "execution_count": 18,
   "metadata": {},
   "outputs": [
    {
     "name": "stdout",
     "output_type": "stream",
     "text": [
      "In-layer model : 1 trained, Avg CV score across HO folds: -3.3561\n",
      "In-layer model : 2 trained, Avg CV score across HO folds: -3.1129\n",
      "Out-layer model : 1 trained,  CV score = -2.7934\n"
     ]
    }
   ],
   "source": [
    "# Metric to maximize (negative RMSE)\n",
    "def nrmse(y,y_pred):\n",
    "    return -np.sqrt(mean_squared_error(y,y_pred))\n",
    "\n",
    "# Folds\n",
    "splt = KFold(n_splits=5,random_state=seed)\n",
    "\n",
    "# Initiate stacker\n",
    "stacker = Stacker(X_train, y_train, splitter=splt, evalMetric=nrmse, family=\"regression\")\n",
    "\n",
    "# Hyper-parameters\n",
    "hypers_linear = {'alpha':np.logspace(-2,4,200)}\n",
    "hypers_rf = {'max_features':[2,4,6,8]}\n",
    "hypers_svr = {'C':np.logspace(-4,4,10), 'gamma':np.logspace(-4,4,10)}\n",
    "\n",
    "# Add one in-layer model\n",
    "stacker.addModelIn(RandomForestRegressor(n_estimators=50), trainable=True, \n",
    "                   hyperParameters = hypers_rf)\n",
    "stacker.addModelIn(SVR(kernel='rbf'), trainable=True, hyperParameters = hypers_svr)\n",
    "\n",
    "# Add one out-layer model\n",
    "stacker.addModelOut(Ridge(), hypers_linear)\n",
    "\n",
    "# Train\n",
    "predsTrain = stacker.stackTrain()\n",
    "\n",
    "# Test\n",
    "predsTest = stacker.stackTest(X_test)"
   ]
  },
  {
   "cell_type": "code",
   "execution_count": 19,
   "metadata": {},
   "outputs": [
    {
     "name": "stdout",
     "output_type": "stream",
     "text": [
      "Ridge Regression RMSE (train) = 2.8041\n",
      "Ridge Regression RMSE (test) = 3.5892\n"
     ]
    }
   ],
   "source": [
    "# Train/Test set predictions and performance\n",
    "mse_tr = mean_squared_error(y_train, predsTrain[0])\n",
    "rmse_tr = np.sqrt(mse_tr)\n",
    "print(\"Ridge Regression RMSE (train) = {:.4f}\".format(rmse_tr))\n",
    "\n",
    "mse_ts = mean_squared_error(y_test, predsTest[0])\n",
    "rmse_ts = np.sqrt(mse_ts)\n",
    "print(\"Ridge Regression RMSE (test) = {:.4f}\".format(rmse_ts))"
   ]
  },
  {
   "cell_type": "code",
   "execution_count": 20,
   "metadata": {},
   "outputs": [
    {
     "name": "stdout",
     "output_type": "stream",
     "text": [
      "Stacked Model Summary:\n",
      "----------------------------------------\n",
      "2 in-layer models stacked in 1.94e+01 sec\n",
      "1 out-layer models trained in 1.01e+00 sec\n",
      "In-layer summary:\n",
      "----------------------------------------\n",
      "2 in-Layer models trained/fitted\n",
      "Out-layer summary:\n",
      "----------------------------------------\n",
      "Out-layer model 1: CV score = -2.7934\n",
      "Best hyper-parameters: {'alpha': 943.7878277775371}\n"
     ]
    }
   ],
   "source": [
    "stacker.summary()"
   ]
  },
  {
   "cell_type": "markdown",
   "metadata": {},
   "source": [
    "Again, the stacked model performs slightly better.."
   ]
  }
 ],
 "metadata": {
  "kernelspec": {
   "display_name": "Python 3",
   "language": "python",
   "name": "python3"
  },
  "language_info": {
   "codemirror_mode": {
    "name": "ipython",
    "version": 3
   },
   "file_extension": ".py",
   "mimetype": "text/x-python",
   "name": "python",
   "nbconvert_exporter": "python",
   "pygments_lexer": "ipython3",
   "version": "3.6.7"
  }
 },
 "nbformat": 4,
 "nbformat_minor": 2
}
